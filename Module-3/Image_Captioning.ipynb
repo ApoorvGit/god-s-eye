{
 "cells": [
  {
   "cell_type": "code",
   "execution_count": 1,
   "id": "6f63888e",
   "metadata": {},
   "outputs": [],
   "source": [
    "import pandas as pd\n",
    "import numpy as np\n",
    "import matplotlib.pyplot as plt\n",
    "import keras\n",
    "import json\n",
    "import pickle\n",
    "from tensorflow.keras.applications.inception_v3 import InceptionV3, preprocess_input, decode_predictions\n",
    "from keras.preprocessing import image\n",
    "from keras.models import Model, load_model\n",
    "from keras.preprocessing.sequence import pad_sequences\n",
    "from tensorflow.keras.utils import to_categorical\n",
    "from keras.layers import Input, Dense, Dropout, Embedding, LSTM\n",
    "from keras.layers.merge import add\n",
    "#for voice\n",
    "from playsound import playsound\n",
    "from gtts import gTTS \n",
    "import os \n",
    "import time"
   ]
  },
  {
   "cell_type": "code",
   "execution_count": 2,
   "id": "ecb81d36",
   "metadata": {},
   "outputs": [
    {
     "data": {
      "text/plain": [
       "<tensorflow.python.eager.def_function.Function at 0x2877588ac40>"
      ]
     },
     "execution_count": 2,
     "metadata": {},
     "output_type": "execute_result"
    }
   ],
   "source": [
    "model = load_model(\"Model Weights/model_8.h5\")\n",
    "model.make_predict_function()"
   ]
  },
  {
   "cell_type": "code",
   "execution_count": 3,
   "id": "a9afe36b",
   "metadata": {},
   "outputs": [
    {
     "data": {
      "text/plain": [
       "<tensorflow.python.eager.def_function.Function at 0x28775222130>"
      ]
     },
     "execution_count": 3,
     "metadata": {},
     "output_type": "execute_result"
    }
   ],
   "source": [
    "# Get the InceptionV3 model trained on imagenet data\n",
    "model_temp = InceptionV3(weights='imagenet',input_shape=(299,299,3))\n",
    "# Remove the last layer (output softmax layer) from the inception v3\n",
    "model_inception = Model(model_temp.input, model_temp.layers[-2].output)\n",
    "model_inception.make_predict_function()"
   ]
  },
  {
   "cell_type": "code",
   "execution_count": 4,
   "id": "280579ac",
   "metadata": {},
   "outputs": [],
   "source": [
    "def preprocess_image(img):\n",
    "    # Convert all the images to size 299x299 as expected by the\n",
    "    # inception v3 model\n",
    "    img = image.load_img(img, target_size=(299, 299))\n",
    "    # Convert PIL image to numpy array of 3-dimensions\n",
    "    x = image.img_to_array(img)\n",
    "    # Add one more dimension\n",
    "    x = np.expand_dims(x, axis=0)\n",
    "    # preprocess images using preprocess_input() from inception module\n",
    "    x = preprocess_input(x)\n",
    "    return x"
   ]
  },
  {
   "cell_type": "code",
   "execution_count": 5,
   "id": "7abb820d",
   "metadata": {},
   "outputs": [],
   "source": [
    "def encode_image(img):\n",
    "    img = preprocess_image(img)\n",
    "    feature_vector = model_inception.predict(img)\n",
    "    # reshape from (1, 2048) to (2048, )\n",
    "    feature_vector = feature_vector.reshape(1, feature_vector.shape[1])\n",
    "    return feature_vector"
   ]
  },
  {
   "cell_type": "code",
   "execution_count": 6,
   "id": "256b7059",
   "metadata": {},
   "outputs": [],
   "source": [
    "with open(\"Storage/word_to_idx.pkl\", 'rb') as w2i:\n",
    "    word_to_idx = pickle.load(w2i)\n",
    "    \n",
    "with open(\"Storage/idx_to_word.pkl\", 'rb') as i2w:\n",
    "    idx_to_word = pickle.load(i2w)"
   ]
  },
  {
   "cell_type": "code",
   "execution_count": 7,
   "id": "fc8006b7",
   "metadata": {},
   "outputs": [],
   "source": [
    "def beam_search(image, beam_index = 5):\n",
    "    start = [word_to_idx[\"startseq\"]]\n",
    "    max_length = 74\n",
    "    # start_word[0][0] = index of the starting word\n",
    "    # start_word[0][1] = probability of the word predicted\n",
    "    start_word = [[start, 0.0]]\n",
    "    \n",
    "    while len(start_word[0][0]) < max_length:\n",
    "        temp = []\n",
    "        for s in start_word:\n",
    "            par_caps = pad_sequences([s[0]], maxlen=max_length)\n",
    "            e = image\n",
    "            preds = model.predict([e, np.array(par_caps)])\n",
    "            \n",
    "            # Getting the top <beam_index>(n) predictions\n",
    "            word_preds = np.argsort(preds[0])[-beam_index:]\n",
    "            \n",
    "            # creating a new list so as to put them via the model again\n",
    "            for w in word_preds:\n",
    "                next_cap, prob = s[0][:], s[1]\n",
    "                next_cap.append(w)\n",
    "                prob += preds[0][w]\n",
    "                temp.append([next_cap, prob])\n",
    "                    \n",
    "        start_word = temp\n",
    "        # Sorting according to the probabilities\n",
    "        start_word = sorted(start_word, reverse=False, key=lambda l: l[1])\n",
    "        # Getting the top words\n",
    "        start_word = start_word[-beam_index:]\n",
    "    \n",
    "    start_word = start_word[-1][0]\n",
    "    intermediate_caption = [idx_to_word[i] for i in start_word]\n",
    "\n",
    "    final_caption = []\n",
    "    \n",
    "    for i in intermediate_caption:\n",
    "        if i != 'endseq':\n",
    "            final_caption.append(i)\n",
    "        else:\n",
    "            break\n",
    "    \n",
    "    final_caption = ' '.join(final_caption[1:])\n",
    "    return final_caption"
   ]
  },
  {
   "cell_type": "code",
   "execution_count": 8,
   "id": "671b7d77",
   "metadata": {},
   "outputs": [],
   "source": [
    "def caption_this_image(image):\n",
    "    enc = encode_image(image)\n",
    "    caption = beam_search(enc)\n",
    "    return caption"
   ]
  },
  {
   "cell_type": "code",
   "execution_count": 9,
   "id": "e723fe34",
   "metadata": {},
   "outputs": [],
   "source": [
    "def voice(myText):\n",
    "\n",
    "    # Language we want to use \n",
    "    language = 'en'\n",
    "\n",
    "    output = gTTS(text=myText, lang=language, slow=False)\n",
    "    t=time.time()\n",
    "    nm=\"output\"+str(t)+\".mp3\"\n",
    "    output.save(nm)\n",
    "    playsound(nm)"
   ]
  },
  {
   "cell_type": "code",
   "execution_count": 13,
   "id": "7a9731b0",
   "metadata": {},
   "outputs": [],
   "source": [
    "def output_caption_stream(image):\n",
    "    nm = \"frame.jpg\"\n",
    "    cv2.imwrite(nm, image)\n",
    "    #print(caption_this_image(nm))\n",
    "    voice(caption_this_image(nm))"
   ]
  },
  {
   "cell_type": "code",
   "execution_count": null,
   "id": "9ed42072",
   "metadata": {},
   "outputs": [],
   "source": []
  },
  {
   "cell_type": "code",
   "execution_count": null,
   "id": "35987dd8",
   "metadata": {},
   "outputs": [],
   "source": []
  },
  {
   "cell_type": "code",
   "execution_count": null,
   "id": "cf683917",
   "metadata": {},
   "outputs": [],
   "source": []
  }
 ],
 "metadata": {
  "kernelspec": {
   "display_name": "Python 3 (ipykernel)",
   "language": "python",
   "name": "python3"
  },
  "language_info": {
   "codemirror_mode": {
    "name": "ipython",
    "version": 3
   },
   "file_extension": ".py",
   "mimetype": "text/x-python",
   "name": "python",
   "nbconvert_exporter": "python",
   "pygments_lexer": "ipython3",
   "version": "3.9.7"
  }
 },
 "nbformat": 4,
 "nbformat_minor": 5
}
